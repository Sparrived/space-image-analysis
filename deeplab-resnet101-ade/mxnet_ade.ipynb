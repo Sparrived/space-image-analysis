{
 "cells": [
  {
   "cell_type": "markdown",
   "metadata": {},
   "source": [
    "# 检测 CUDA 版本\n"
   ]
  },
  {
   "cell_type": "code",
   "execution_count": null,
   "metadata": {},
   "outputs": [],
   "source": [
    "!nvidia-smi"
   ]
  },
  {
   "cell_type": "markdown",
   "metadata": {},
   "source": [
    "# 0. 相关库安装\n",
    "\n",
    "### 1. 使用 Python3.7\n",
    "\n",
    "### 2. 仅需要在新环境下运行此 cell\n"
   ]
  },
  {
   "cell_type": "code",
   "execution_count": null,
   "metadata": {
    "notebookRunGroups": {
     "groupValue": "2"
    }
   },
   "outputs": [],
   "source": [
    "%pip install pandas\n",
    "%pip install tqdm\n",
    "%pip install opencv-python\n",
    "%pip install openpyxl\n",
    "%pip install matplotlib\n",
    "%pip install mxnet\n",
    "%pip install gluoncv\n",
    "%pip install numpy==1.17.0 --force-reinstall"
   ]
  },
  {
   "cell_type": "markdown",
   "metadata": {},
   "source": [
    "# 1. 准备工作\n",
    "\n",
    "## 1.1 导入相关库\n"
   ]
  },
  {
   "cell_type": "code",
   "execution_count": 1,
   "metadata": {},
   "outputs": [],
   "source": [
    "import os\n",
    "import json\n",
    "\n",
    "import numpy as np\n",
    "import pandas as pd\n",
    "from PIL import Image\n",
    "\n",
    "from pathlib import Path\n",
    "from tqdm import tqdm\n",
    "\n",
    "import mxnet as mx\n",
    "from mxnet import image\n",
    "import gluoncv\n",
    "from gluoncv.data.transforms.presets.segmentation import test_transform\n",
    "from gluoncv.utils.viz import get_color_pallete\n",
    "\n",
    "import matplotlib.pyplot as plt\n",
    "plt.rcParams['font.sans-serif']=['SimHei'] # 使用SimHei字体显示中文\n",
    "plt.rcParams['axes.unicode_minus']=False   # 解决负号'-'显示为方块的问题"
   ]
  },
  {
   "cell_type": "markdown",
   "metadata": {},
   "source": [
    "## 1.3 设置主要参数\n"
   ]
  },
  {
   "cell_type": "code",
   "execution_count": 2,
   "metadata": {},
   "outputs": [],
   "source": [
    "# 读取与保存位置\n",
    "PATH_LOCS = {\n",
    "    \"INPUT\": Path(\"input\"),  # 输入数据集的位置（指没有经过处理的图片数据）\n",
    "    \"ADE_SPLIT\": Path(\"ade-split-output\")  # ADE语义分割后的结果保存位置\n",
    "}\n",
    "# 创建没有的文件夹\n",
    "for _, path in PATH_LOCS.items():\n",
    "    path.mkdir(parents=True, exist_ok=True)"
   ]
  },
  {
   "cell_type": "markdown",
   "metadata": {},
   "source": [
    "# 2. ADE 语义分割\n",
    "\n",
    "## 2.1 准备工作\n",
    "\n",
    "由于 mxnet 较为老旧，若使用 mxnet 进行语义分割请使用 mxnet_ade.ipynb,并使用 python3.7 版本, numpy 版本不超过 1.17.0\n"
   ]
  },
  {
   "cell_type": "markdown",
   "metadata": {},
   "source": [
    "### 2.1.1 读取类别映射\n"
   ]
  },
  {
   "cell_type": "code",
   "execution_count": 10,
   "metadata": {},
   "outputs": [
    {
     "name": "stdout",
     "output_type": "stream",
     "text": [
      "读取 type_f.json 成功！获取了 150 条映射数据.\n"
     ]
    }
   ],
   "source": [
    "type_f_path = Path(\"type_f.json\")\n",
    "\n",
    "if type_f_path.exists():\n",
    "    with open(type_f_path, 'r', encoding=\"utf8\") as file:\n",
    "        col_map = json.load(file)\n",
    "        if col_map:\n",
    "            print(f\"读取 type_f.json 成功！获取了 {len(col_map)} 条映射数据.\")\n",
    "else:\n",
    "    print(f\"type_f.json 不存在！请检查文件结构.\")"
   ]
  },
  {
   "cell_type": "markdown",
   "metadata": {},
   "source": [
    "### 2.1.2 定义运算的相关函数\n"
   ]
  },
  {
   "cell_type": "code",
   "execution_count": 11,
   "metadata": {},
   "outputs": [],
   "source": [
    "def overlay_mask_on_image(original_img_path, mask, output_folder, filename):\n",
    "    original_img = Image.open(original_img_path)\n",
    "    mask_img = mask.convert(\"RGBA\")\n",
    "    overlayed_img = Image.blend(original_img.convert(\"RGBA\"), mask_img, 0.5)  # 调整遮罩透明度\n",
    "    overlay_filename = filename.stem + '_overlay.png'\n",
    "    overlay_path = output_folder / overlay_filename\n",
    "    overlayed_img.save(overlay_path)\n",
    "    return overlay_filename\n",
    "\n",
    "\n",
    "def calculate_percentage(counts, total_pixels):\n",
    "    return [count / total_pixels * 100 for count in counts]\n",
    "\n",
    "\n",
    "def collect_segmentation_data(predict, col_map):\n",
    "    unique_elements, counts_elements = np.unique(predict, return_counts=True)\n",
    "    total_pixels = sum(counts_elements)\n",
    "    counts_percentage = calculate_percentage(counts_elements, total_pixels)\n",
    "    data = {col_map.get(k, 'Unknown'): v for k, v in zip(unique_elements, counts_percentage)}\n",
    "    return data\n",
    "\n",
    "\n",
    "def save_segmentation_stats_to_csv(data, output_folder, filename):\n",
    "    df = pd.DataFrame([data])\n",
    "    output_filename_csv = filename.stem + '_segmentation_stats.csv'\n",
    "    save_path_csv = output_folder / output_filename_csv\n",
    "    df.to_csv(save_path_csv, index=False)\n",
    "    return output_filename_csv\n",
    "\n",
    "\n",
    "def auto_adjust_chart_size(df):\n",
    "    size = max(10, len(df.columns) / 2)\n",
    "    return size\n",
    "\n",
    "\n",
    "def save_visualization_chart(data, output_folder, filename):\n",
    "    df = pd.DataFrame([data]).rename(columns=col_map)\n",
    "    df = df.loc[:, df.sum() > 1]\n",
    "    df['其他'] = 100 - df.sum(axis=1)\n",
    "    chart_size = auto_adjust_chart_size(df)\n",
    "    plt.figure(figsize=(chart_size, 6))\n",
    "    df.T.plot(kind='bar', legend=False, width=0.8)\n",
    "    plt.ylabel('Percentage (%)')\n",
    "    plt.title(f'Segmentation Percentages for {filename.name}')\n",
    "    plt.xticks(rotation=0)  # 确保x轴标签名称横向显示\n",
    "    chart_filename = filename.stem + '_visualization_chart.png'\n",
    "    save_path_chart = output_folder / chart_filename\n",
    "    plt.savefig(save_path_chart)\n",
    "    plt.cla()\n",
    "    plt.close('all')\n",
    "\n",
    "\n",
    "def compile_and_plot_segmentation_trends(segmentation_data, output_folder):\n",
    "    df_compiled = pd.DataFrame(segmentation_data).T.rename(columns=col_map).fillna(0)\n",
    "    mean_percentages = df_compiled.mean()\n",
    "    significant_categories = mean_percentages[mean_percentages > 1].index\n",
    "    df_compiled = df_compiled[significant_categories]\n",
    "    plt.figure(figsize=(max(12, len(segmentation_data) * 0.5), 8))\n",
    "    for column in df_compiled.columns:\n",
    "        plt.plot(df_compiled.index, df_compiled[column], marker='o', label=column)\n",
    "    plt.xlabel('图片索引')\n",
    "    plt.ylabel('像素百分比')\n",
    "    plt.title('Segmentation Trends Across Images')\n",
    "    plt.legend(bbox_to_anchor=(1.05, 1), loc='upper left')\n",
    "    plt.grid(True)\n",
    "    plt.tight_layout(rect=[0, 0, 0.85, 1])\n",
    "    trends_filename = 'segmentation_trends.png'\n",
    "    plt.savefig(output_folder / trends_filename)\n",
    "    plt.cla()\n",
    "    plt.close('all')\n",
    "\n",
    "\n",
    "def segment_images(input_folder : Path, output_folder, model, ctx) -> int:\n",
    "    segmentation_data = {}\n",
    "    for filename in tqdm(sorted(os.listdir(input_folder))):\n",
    "        if filename.lower().endswith(('.jpg', '.png', '.jpeg')):\n",
    "            # 读取图片并归一化\n",
    "            img_path = input_folder / Path(filename)\n",
    "            img = image.imread(img_path)\n",
    "            img = test_transform(img, ctx=ctx)\n",
    "            # 进行预测\n",
    "            output = model.predict(img)\n",
    "            predict = mx.nd.squeeze(mx.nd.argmax(output, 1)).asnumpy()\n",
    "            # 将所有判断为房屋的位置改为建筑，保持一致性\n",
    "            predict[predict == 25] = 1\n",
    "            # 创建遮罩\n",
    "            mask = get_color_pallete(predict, 'ade')\n",
    "            # 保存遮罩\n",
    "            output_filename = filename.split('.')[0] + '_seg_ade_101.png'\n",
    "            save_path = output_folder / output_filename\n",
    "            mask.save(save_path)\n",
    "            # 透明化遮罩并覆盖到原图\n",
    "            overlay_mask_on_image(img_path, mask, output_folder, img_path)\n",
    "            # 统计图片内色块数据\n",
    "            data = collect_segmentation_data(predict, col_map)\n",
    "            save_segmentation_stats_to_csv(data, output_folder, img_path)\n",
    "            save_visualization_chart(data, output_folder, img_path)\n",
    "            segmentation_data[filename] = data\n",
    "    # 保存像素百分比的条带\n",
    "    compile_and_plot_segmentation_trends(segmentation_data, output_folder)\n",
    "    return len(segmentation_data)"
   ]
  },
  {
   "cell_type": "markdown",
   "metadata": {},
   "source": [
    "### 2.1.3 载入模型\n"
   ]
  },
  {
   "cell_type": "code",
   "execution_count": 12,
   "metadata": {},
   "outputs": [],
   "source": [
    "ctx = mx.cpu(0)\n",
    "ade_model = gluoncv.model_zoo.get_model('deeplab_resnest101_ade', pretrained=True)\n",
    "ade_model.collect_params().reset_ctx(ctx)"
   ]
  },
  {
   "cell_type": "markdown",
   "metadata": {},
   "source": [
    "### 2.1.4 使用 ADE 数据集对图片进行分割并处理相关数据\n"
   ]
  },
  {
   "cell_type": "code",
   "execution_count": 13,
   "metadata": {},
   "outputs": [
    {
     "name": "stdout",
     "output_type": "stream",
     "text": [
      "使用 MXNET 进行图片语义分割.\n"
     ]
    },
    {
     "name": "stderr",
     "output_type": "stream",
     "text": [
      "  0%|          | 3/1243 [01:08<7:54:29, 22.96s/it]\n"
     ]
    },
    {
     "ename": "KeyboardInterrupt",
     "evalue": "",
     "output_type": "error",
     "traceback": [
      "\u001b[1;31m---------------------------------------------------------------------------\u001b[0m",
      "\u001b[1;31mKeyboardInterrupt\u001b[0m                         Traceback (most recent call last)",
      "\u001b[1;32m~\\AppData\\Local\\Temp\\ipykernel_73612\\3203537225.py\u001b[0m in \u001b[0;36m<module>\u001b[1;34m\u001b[0m\n\u001b[0;32m      1\u001b[0m \u001b[0mprint\u001b[0m\u001b[1;33m(\u001b[0m\u001b[1;34m\"使用 MXNET 进行图片语义分割.\"\u001b[0m\u001b[1;33m)\u001b[0m\u001b[1;33m\u001b[0m\u001b[0m\n\u001b[1;32m----> 2\u001b[1;33m \u001b[0mcount\u001b[0m \u001b[1;33m=\u001b[0m \u001b[0msegment_images\u001b[0m\u001b[1;33m(\u001b[0m\u001b[0mPATH_LOCS\u001b[0m\u001b[1;33m[\u001b[0m\u001b[1;34m\"INPUT\"\u001b[0m\u001b[1;33m]\u001b[0m\u001b[1;33m,\u001b[0m \u001b[0mPATH_LOCS\u001b[0m\u001b[1;33m[\u001b[0m\u001b[1;34m\"ADE_SPLIT\"\u001b[0m\u001b[1;33m]\u001b[0m\u001b[1;33m,\u001b[0m \u001b[0made_model\u001b[0m\u001b[1;33m,\u001b[0m \u001b[0mctx\u001b[0m\u001b[1;33m)\u001b[0m\u001b[1;33m\u001b[0m\u001b[0m\n\u001b[0m\u001b[0;32m      3\u001b[0m \u001b[0mprint\u001b[0m\u001b[1;33m(\u001b[0m\u001b[1;34m\"图片语义分割完成!\"\u001b[0m\u001b[1;33m,\u001b[0m \u001b[1;34m\"共分割\"\u001b[0m\u001b[1;33m,\u001b[0m \u001b[0mcount\u001b[0m\u001b[1;33m,\u001b[0m \u001b[1;34m\"张图片.\"\u001b[0m\u001b[1;33m)\u001b[0m\u001b[1;33m\u001b[0m\u001b[0m\n",
      "\u001b[1;32m~\\AppData\\Local\\Temp\\ipykernel_73612\\2247921185.py\u001b[0m in \u001b[0;36msegment_images\u001b[1;34m(input_folder, output_folder, model, ctx)\u001b[0m\n\u001b[0;32m     81\u001b[0m             \u001b[1;31m# 进行预测\u001b[0m\u001b[1;33m\u001b[0m\u001b[1;33m\u001b[0m\u001b[0m\n\u001b[0;32m     82\u001b[0m             \u001b[0moutput\u001b[0m \u001b[1;33m=\u001b[0m \u001b[0mmodel\u001b[0m\u001b[1;33m.\u001b[0m\u001b[0mpredict\u001b[0m\u001b[1;33m(\u001b[0m\u001b[0mimg\u001b[0m\u001b[1;33m)\u001b[0m\u001b[1;33m\u001b[0m\u001b[0m\n\u001b[1;32m---> 83\u001b[1;33m             \u001b[0mpredict\u001b[0m \u001b[1;33m=\u001b[0m \u001b[0mmx\u001b[0m\u001b[1;33m.\u001b[0m\u001b[0mnd\u001b[0m\u001b[1;33m.\u001b[0m\u001b[0msqueeze\u001b[0m\u001b[1;33m(\u001b[0m\u001b[0mmx\u001b[0m\u001b[1;33m.\u001b[0m\u001b[0mnd\u001b[0m\u001b[1;33m.\u001b[0m\u001b[0margmax\u001b[0m\u001b[1;33m(\u001b[0m\u001b[0moutput\u001b[0m\u001b[1;33m,\u001b[0m \u001b[1;36m1\u001b[0m\u001b[1;33m)\u001b[0m\u001b[1;33m)\u001b[0m\u001b[1;33m.\u001b[0m\u001b[0masnumpy\u001b[0m\u001b[1;33m(\u001b[0m\u001b[1;33m)\u001b[0m\u001b[1;33m\u001b[0m\u001b[0m\n\u001b[0m\u001b[0;32m     84\u001b[0m             \u001b[1;31m# 将所有判断为房屋的位置改为建筑，保持一致性\u001b[0m\u001b[1;33m\u001b[0m\u001b[1;33m\u001b[0m\u001b[0m\n\u001b[0;32m     85\u001b[0m             \u001b[0mpredict\u001b[0m\u001b[1;33m[\u001b[0m\u001b[0mpredict\u001b[0m \u001b[1;33m==\u001b[0m \u001b[1;36m25\u001b[0m\u001b[1;33m]\u001b[0m \u001b[1;33m=\u001b[0m \u001b[1;36m1\u001b[0m\u001b[1;33m\u001b[0m\u001b[0m\n",
      "\u001b[1;32mc:\\Users\\Sparr\\Desktop\\space-image-analysis\\deeplab-resnet101-ade\\.venv\\lib\\site-packages\\mxnet\\ndarray\\ndarray.py\u001b[0m in \u001b[0;36masnumpy\u001b[1;34m(self)\u001b[0m\n\u001b[0;32m   2564\u001b[0m             \u001b[0mself\u001b[0m\u001b[1;33m.\u001b[0m\u001b[0mhandle\u001b[0m\u001b[1;33m,\u001b[0m\u001b[1;33m\u001b[0m\u001b[0m\n\u001b[0;32m   2565\u001b[0m             \u001b[0mdata\u001b[0m\u001b[1;33m.\u001b[0m\u001b[0mctypes\u001b[0m\u001b[1;33m.\u001b[0m\u001b[0mdata_as\u001b[0m\u001b[1;33m(\u001b[0m\u001b[0mctypes\u001b[0m\u001b[1;33m.\u001b[0m\u001b[0mc_void_p\u001b[0m\u001b[1;33m)\u001b[0m\u001b[1;33m,\u001b[0m\u001b[1;33m\u001b[0m\u001b[0m\n\u001b[1;32m-> 2566\u001b[1;33m             ctypes.c_size_t(data.size)))\n\u001b[0m\u001b[0;32m   2567\u001b[0m         \u001b[1;32mreturn\u001b[0m \u001b[0mdata\u001b[0m\u001b[1;33m\u001b[0m\u001b[0m\n\u001b[0;32m   2568\u001b[0m \u001b[1;33m\u001b[0m\u001b[0m\n",
      "\u001b[1;31mKeyboardInterrupt\u001b[0m: "
     ]
    }
   ],
   "source": [
    "print(\"使用 MXNET 进行图片语义分割.\")\n",
    "count = segment_images(PATH_LOCS[\"INPUT\"], PATH_LOCS[\"ADE_SPLIT\"], ade_model, ctx)\n",
    "print(\"图片语义分割完成!\", \"共分割\", count, \"张图片.\")"
   ]
  }
 ],
 "metadata": {
  "kernelspec": {
   "display_name": ".venv",
   "language": "python",
   "name": "python3"
  },
  "language_info": {
   "codemirror_mode": {
    "name": "ipython",
    "version": 3
   },
   "file_extension": ".py",
   "mimetype": "text/x-python",
   "name": "python",
   "nbconvert_exporter": "python",
   "pygments_lexer": "ipython3",
   "version": "3.7.0"
  }
 },
 "nbformat": 4,
 "nbformat_minor": 2
}
